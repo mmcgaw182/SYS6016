{
 "cells": [
  {
   "cell_type": "code",
   "execution_count": 1,
   "metadata": {
    "id": "WT20FlOaydP2"
   },
   "outputs": [],
   "source": [
    "import pandas as pd\n",
    "import numpy as np\n",
    "\n",
    "import tensorflow as tf\n",
    "from tensorflow import keras\n",
    "from tensorflow.keras import layers\n",
    "\n",
    "from google.colab import files\n"
   ]
  },
  {
   "cell_type": "code",
   "execution_count": 4,
   "metadata": {
    "colab": {
     "base_uri": "https://localhost:8080/",
     "height": 73,
     "resources": {
      "http://localhost:8080/nbextensions/google.colab/files.js": {
       "data": "Ly8gQ29weXJpZ2h0IDIwMTcgR29vZ2xlIExMQwovLwovLyBMaWNlbnNlZCB1bmRlciB0aGUgQXBhY2hlIExpY2Vuc2UsIFZlcnNpb24gMi4wICh0aGUgIkxpY2Vuc2UiKTsKLy8geW91IG1heSBub3QgdXNlIHRoaXMgZmlsZSBleGNlcHQgaW4gY29tcGxpYW5jZSB3aXRoIHRoZSBMaWNlbnNlLgovLyBZb3UgbWF5IG9idGFpbiBhIGNvcHkgb2YgdGhlIExpY2Vuc2UgYXQKLy8KLy8gICAgICBodHRwOi8vd3d3LmFwYWNoZS5vcmcvbGljZW5zZXMvTElDRU5TRS0yLjAKLy8KLy8gVW5sZXNzIHJlcXVpcmVkIGJ5IGFwcGxpY2FibGUgbGF3IG9yIGFncmVlZCB0byBpbiB3cml0aW5nLCBzb2Z0d2FyZQovLyBkaXN0cmlidXRlZCB1bmRlciB0aGUgTGljZW5zZSBpcyBkaXN0cmlidXRlZCBvbiBhbiAiQVMgSVMiIEJBU0lTLAovLyBXSVRIT1VUIFdBUlJBTlRJRVMgT1IgQ09ORElUSU9OUyBPRiBBTlkgS0lORCwgZWl0aGVyIGV4cHJlc3Mgb3IgaW1wbGllZC4KLy8gU2VlIHRoZSBMaWNlbnNlIGZvciB0aGUgc3BlY2lmaWMgbGFuZ3VhZ2UgZ292ZXJuaW5nIHBlcm1pc3Npb25zIGFuZAovLyBsaW1pdGF0aW9ucyB1bmRlciB0aGUgTGljZW5zZS4KCi8qKgogKiBAZmlsZW92ZXJ2aWV3IEhlbHBlcnMgZm9yIGdvb2dsZS5jb2xhYiBQeXRob24gbW9kdWxlLgogKi8KKGZ1bmN0aW9uKHNjb3BlKSB7CmZ1bmN0aW9uIHNwYW4odGV4dCwgc3R5bGVBdHRyaWJ1dGVzID0ge30pIHsKICBjb25zdCBlbGVtZW50ID0gZG9jdW1lbnQuY3JlYXRlRWxlbWVudCgnc3BhbicpOwogIGVsZW1lbnQudGV4dENvbnRlbnQgPSB0ZXh0OwogIGZvciAoY29uc3Qga2V5IG9mIE9iamVjdC5rZXlzKHN0eWxlQXR0cmlidXRlcykpIHsKICAgIGVsZW1lbnQuc3R5bGVba2V5XSA9IHN0eWxlQXR0cmlidXRlc1trZXldOwogIH0KICByZXR1cm4gZWxlbWVudDsKfQoKLy8gTWF4IG51bWJlciBvZiBieXRlcyB3aGljaCB3aWxsIGJlIHVwbG9hZGVkIGF0IGEgdGltZS4KY29uc3QgTUFYX1BBWUxPQURfU0laRSA9IDEwMCAqIDEwMjQ7CgpmdW5jdGlvbiBfdXBsb2FkRmlsZXMoaW5wdXRJZCwgb3V0cHV0SWQpIHsKICBjb25zdCBzdGVwcyA9IHVwbG9hZEZpbGVzU3RlcChpbnB1dElkLCBvdXRwdXRJZCk7CiAgY29uc3Qgb3V0cHV0RWxlbWVudCA9IGRvY3VtZW50LmdldEVsZW1lbnRCeUlkKG91dHB1dElkKTsKICAvLyBDYWNoZSBzdGVwcyBvbiB0aGUgb3V0cHV0RWxlbWVudCB0byBtYWtlIGl0IGF2YWlsYWJsZSBmb3IgdGhlIG5leHQgY2FsbAogIC8vIHRvIHVwbG9hZEZpbGVzQ29udGludWUgZnJvbSBQeXRob24uCiAgb3V0cHV0RWxlbWVudC5zdGVwcyA9IHN0ZXBzOwoKICByZXR1cm4gX3VwbG9hZEZpbGVzQ29udGludWUob3V0cHV0SWQpOwp9CgovLyBUaGlzIGlzIHJvdWdobHkgYW4gYXN5bmMgZ2VuZXJhdG9yIChub3Qgc3VwcG9ydGVkIGluIHRoZSBicm93c2VyIHlldCksCi8vIHdoZXJlIHRoZXJlIGFyZSBtdWx0aXBsZSBhc3luY2hyb25vdXMgc3RlcHMgYW5kIHRoZSBQeXRob24gc2lkZSBpcyBnb2luZwovLyB0byBwb2xsIGZvciBjb21wbGV0aW9uIG9mIGVhY2ggc3RlcC4KLy8gVGhpcyB1c2VzIGEgUHJvbWlzZSB0byBibG9jayB0aGUgcHl0aG9uIHNpZGUgb24gY29tcGxldGlvbiBvZiBlYWNoIHN0ZXAsCi8vIHRoZW4gcGFzc2VzIHRoZSByZXN1bHQgb2YgdGhlIHByZXZpb3VzIHN0ZXAgYXMgdGhlIGlucHV0IHRvIHRoZSBuZXh0IHN0ZXAuCmZ1bmN0aW9uIF91cGxvYWRGaWxlc0NvbnRpbnVlKG91dHB1dElkKSB7CiAgY29uc3Qgb3V0cHV0RWxlbWVudCA9IGRvY3VtZW50LmdldEVsZW1lbnRCeUlkKG91dHB1dElkKTsKICBjb25zdCBzdGVwcyA9IG91dHB1dEVsZW1lbnQuc3RlcHM7CgogIGNvbnN0IG5leHQgPSBzdGVwcy5uZXh0KG91dHB1dEVsZW1lbnQubGFzdFByb21pc2VWYWx1ZSk7CiAgcmV0dXJuIFByb21pc2UucmVzb2x2ZShuZXh0LnZhbHVlLnByb21pc2UpLnRoZW4oKHZhbHVlKSA9PiB7CiAgICAvLyBDYWNoZSB0aGUgbGFzdCBwcm9taXNlIHZhbHVlIHRvIG1ha2UgaXQgYXZhaWxhYmxlIHRvIHRoZSBuZXh0CiAgICAvLyBzdGVwIG9mIHRoZSBnZW5lcmF0b3IuCiAgICBvdXRwdXRFbGVtZW50Lmxhc3RQcm9taXNlVmFsdWUgPSB2YWx1ZTsKICAgIHJldHVybiBuZXh0LnZhbHVlLnJlc3BvbnNlOwogIH0pOwp9CgovKioKICogR2VuZXJhdG9yIGZ1bmN0aW9uIHdoaWNoIGlzIGNhbGxlZCBiZXR3ZWVuIGVhY2ggYXN5bmMgc3RlcCBvZiB0aGUgdXBsb2FkCiAqIHByb2Nlc3MuCiAqIEBwYXJhbSB7c3RyaW5nfSBpbnB1dElkIEVsZW1lbnQgSUQgb2YgdGhlIGlucHV0IGZpbGUgcGlja2VyIGVsZW1lbnQuCiAqIEBwYXJhbSB7c3RyaW5nfSBvdXRwdXRJZCBFbGVtZW50IElEIG9mIHRoZSBvdXRwdXQgZGlzcGxheS4KICogQHJldHVybiB7IUl0ZXJhYmxlPCFPYmplY3Q+fSBJdGVyYWJsZSBvZiBuZXh0IHN0ZXBzLgogKi8KZnVuY3Rpb24qIHVwbG9hZEZpbGVzU3RlcChpbnB1dElkLCBvdXRwdXRJZCkgewogIGNvbnN0IGlucHV0RWxlbWVudCA9IGRvY3VtZW50LmdldEVsZW1lbnRCeUlkKGlucHV0SWQpOwogIGlucHV0RWxlbWVudC5kaXNhYmxlZCA9IGZhbHNlOwoKICBjb25zdCBvdXRwdXRFbGVtZW50ID0gZG9jdW1lbnQuZ2V0RWxlbWVudEJ5SWQob3V0cHV0SWQpOwogIG91dHB1dEVsZW1lbnQuaW5uZXJIVE1MID0gJyc7CgogIGNvbnN0IHBpY2tlZFByb21pc2UgPSBuZXcgUHJvbWlzZSgocmVzb2x2ZSkgPT4gewogICAgaW5wdXRFbGVtZW50LmFkZEV2ZW50TGlzdGVuZXIoJ2NoYW5nZScsIChlKSA9PiB7CiAgICAgIHJlc29sdmUoZS50YXJnZXQuZmlsZXMpOwogICAgfSk7CiAgfSk7CgogIGNvbnN0IGNhbmNlbCA9IGRvY3VtZW50LmNyZWF0ZUVsZW1lbnQoJ2J1dHRvbicpOwogIGlucHV0RWxlbWVudC5wYXJlbnRFbGVtZW50LmFwcGVuZENoaWxkKGNhbmNlbCk7CiAgY2FuY2VsLnRleHRDb250ZW50ID0gJ0NhbmNlbCB1cGxvYWQnOwogIGNvbnN0IGNhbmNlbFByb21pc2UgPSBuZXcgUHJvbWlzZSgocmVzb2x2ZSkgPT4gewogICAgY2FuY2VsLm9uY2xpY2sgPSAoKSA9PiB7CiAgICAgIHJlc29sdmUobnVsbCk7CiAgICB9OwogIH0pOwoKICAvLyBXYWl0IGZvciB0aGUgdXNlciB0byBwaWNrIHRoZSBmaWxlcy4KICBjb25zdCBmaWxlcyA9IHlpZWxkIHsKICAgIHByb21pc2U6IFByb21pc2UucmFjZShbcGlja2VkUHJvbWlzZSwgY2FuY2VsUHJvbWlzZV0pLAogICAgcmVzcG9uc2U6IHsKICAgICAgYWN0aW9uOiAnc3RhcnRpbmcnLAogICAgfQogIH07CgogIGNhbmNlbC5yZW1vdmUoKTsKCiAgLy8gRGlzYWJsZSB0aGUgaW5wdXQgZWxlbWVudCBzaW5jZSBmdXJ0aGVyIHBpY2tzIGFyZSBub3QgYWxsb3dlZC4KICBpbnB1dEVsZW1lbnQuZGlzYWJsZWQgPSB0cnVlOwoKICBpZiAoIWZpbGVzKSB7CiAgICByZXR1cm4gewogICAgICByZXNwb25zZTogewogICAgICAgIGFjdGlvbjogJ2NvbXBsZXRlJywKICAgICAgfQogICAgfTsKICB9CgogIGZvciAoY29uc3QgZmlsZSBvZiBmaWxlcykgewogICAgY29uc3QgbGkgPSBkb2N1bWVudC5jcmVhdGVFbGVtZW50KCdsaScpOwogICAgbGkuYXBwZW5kKHNwYW4oZmlsZS5uYW1lLCB7Zm9udFdlaWdodDogJ2JvbGQnfSkpOwogICAgbGkuYXBwZW5kKHNwYW4oCiAgICAgICAgYCgke2ZpbGUudHlwZSB8fCAnbi9hJ30pIC0gJHtmaWxlLnNpemV9IGJ5dGVzLCBgICsKICAgICAgICBgbGFzdCBtb2RpZmllZDogJHsKICAgICAgICAgICAgZmlsZS5sYXN0TW9kaWZpZWREYXRlID8gZmlsZS5sYXN0TW9kaWZpZWREYXRlLnRvTG9jYWxlRGF0ZVN0cmluZygpIDoKICAgICAgICAgICAgICAgICAgICAgICAgICAgICAgICAgICAgJ24vYSd9IC0gYCkpOwogICAgY29uc3QgcGVyY2VudCA9IHNwYW4oJzAlIGRvbmUnKTsKICAgIGxpLmFwcGVuZENoaWxkKHBlcmNlbnQpOwoKICAgIG91dHB1dEVsZW1lbnQuYXBwZW5kQ2hpbGQobGkpOwoKICAgIGNvbnN0IGZpbGVEYXRhUHJvbWlzZSA9IG5ldyBQcm9taXNlKChyZXNvbHZlKSA9PiB7CiAgICAgIGNvbnN0IHJlYWRlciA9IG5ldyBGaWxlUmVhZGVyKCk7CiAgICAgIHJlYWRlci5vbmxvYWQgPSAoZSkgPT4gewogICAgICAgIHJlc29sdmUoZS50YXJnZXQucmVzdWx0KTsKICAgICAgfTsKICAgICAgcmVhZGVyLnJlYWRBc0FycmF5QnVmZmVyKGZpbGUpOwogICAgfSk7CiAgICAvLyBXYWl0IGZvciB0aGUgZGF0YSB0byBiZSByZWFkeS4KICAgIGxldCBmaWxlRGF0YSA9IHlpZWxkIHsKICAgICAgcHJvbWlzZTogZmlsZURhdGFQcm9taXNlLAogICAgICByZXNwb25zZTogewogICAgICAgIGFjdGlvbjogJ2NvbnRpbnVlJywKICAgICAgfQogICAgfTsKCiAgICAvLyBVc2UgYSBjaHVua2VkIHNlbmRpbmcgdG8gYXZvaWQgbWVzc2FnZSBzaXplIGxpbWl0cy4gU2VlIGIvNjIxMTU2NjAuCiAgICBsZXQgcG9zaXRpb24gPSAwOwogICAgd2hpbGUgKHBvc2l0aW9uIDwgZmlsZURhdGEuYnl0ZUxlbmd0aCkgewogICAgICBjb25zdCBsZW5ndGggPSBNYXRoLm1pbihmaWxlRGF0YS5ieXRlTGVuZ3RoIC0gcG9zaXRpb24sIE1BWF9QQVlMT0FEX1NJWkUpOwogICAgICBjb25zdCBjaHVuayA9IG5ldyBVaW50OEFycmF5KGZpbGVEYXRhLCBwb3NpdGlvbiwgbGVuZ3RoKTsKICAgICAgcG9zaXRpb24gKz0gbGVuZ3RoOwoKICAgICAgY29uc3QgYmFzZTY0ID0gYnRvYShTdHJpbmcuZnJvbUNoYXJDb2RlLmFwcGx5KG51bGwsIGNodW5rKSk7CiAgICAgIHlpZWxkIHsKICAgICAgICByZXNwb25zZTogewogICAgICAgICAgYWN0aW9uOiAnYXBwZW5kJywKICAgICAgICAgIGZpbGU6IGZpbGUubmFtZSwKICAgICAgICAgIGRhdGE6IGJhc2U2NCwKICAgICAgICB9LAogICAgICB9OwogICAgICBwZXJjZW50LnRleHRDb250ZW50ID0KICAgICAgICAgIGAke01hdGgucm91bmQoKHBvc2l0aW9uIC8gZmlsZURhdGEuYnl0ZUxlbmd0aCkgKiAxMDApfSUgZG9uZWA7CiAgICB9CiAgfQoKICAvLyBBbGwgZG9uZS4KICB5aWVsZCB7CiAgICByZXNwb25zZTogewogICAgICBhY3Rpb246ICdjb21wbGV0ZScsCiAgICB9CiAgfTsKfQoKc2NvcGUuZ29vZ2xlID0gc2NvcGUuZ29vZ2xlIHx8IHt9OwpzY29wZS5nb29nbGUuY29sYWIgPSBzY29wZS5nb29nbGUuY29sYWIgfHwge307CnNjb3BlLmdvb2dsZS5jb2xhYi5fZmlsZXMgPSB7CiAgX3VwbG9hZEZpbGVzLAogIF91cGxvYWRGaWxlc0NvbnRpbnVlLAp9Owp9KShzZWxmKTsK",
       "headers": [
        [
         "content-type",
         "application/javascript"
        ]
       ],
       "ok": true,
       "status": 200,
       "status_text": ""
      }
     }
    },
    "id": "O17mEYYRyifS",
    "outputId": "54b010a2-7ebd-4265-e6ba-5b917915cc92"
   },
   "outputs": [
    {
     "data": {
      "text/html": [
       "\n",
       "     <input type=\"file\" id=\"files-f1251619-e20e-4da6-964b-9f73b98235a8\" name=\"files[]\" multiple disabled\n",
       "        style=\"border:none\" />\n",
       "     <output id=\"result-f1251619-e20e-4da6-964b-9f73b98235a8\">\n",
       "      Upload widget is only available when the cell has been executed in the\n",
       "      current browser session. Please rerun this cell to enable.\n",
       "      </output>\n",
       "      <script src=\"/nbextensions/google.colab/files.js\"></script> "
      ],
      "text/plain": [
       "<IPython.core.display.HTML object>"
      ]
     },
     "metadata": {
      "tags": []
     },
     "output_type": "display_data"
    },
    {
     "name": "stdout",
     "output_type": "stream",
     "text": [
      "Saving TSSData_20201017.csv to TSSData_20201017.csv\n"
     ]
    }
   ],
   "source": [
    "uploaded = files.upload()"
   ]
  },
  {
   "cell_type": "code",
   "execution_count": 2,
   "metadata": {
    "id": "cAdd9Tn2zGZU"
   },
   "outputs": [],
   "source": [
    "traffic = pd.read_csv('TSSData_20201017.csv')"
   ]
  },
  {
   "cell_type": "code",
   "execution_count": 3,
   "metadata": {
    "colab": {
     "base_uri": "https://localhost:8080/",
     "height": 383
    },
    "id": "ZPxUJ_Sb0aAm",
    "outputId": "e25ec9cb-c7b2-47e1-af93-d6c18c2b7fcb"
   },
   "outputs": [
    {
     "data": {
      "text/html": [
       "<div>\n",
       "<style scoped>\n",
       "    .dataframe tbody tr th:only-of-type {\n",
       "        vertical-align: middle;\n",
       "    }\n",
       "\n",
       "    .dataframe tbody tr th {\n",
       "        vertical-align: top;\n",
       "    }\n",
       "\n",
       "    .dataframe thead th {\n",
       "        text-align: right;\n",
       "    }\n",
       "</style>\n",
       "<table border=\"1\" class=\"dataframe\">\n",
       "  <thead>\n",
       "    <tr style=\"text-align: right;\">\n",
       "      <th></th>\n",
       "      <th>numberOfFeatures</th>\n",
       "      <th>timeStamp</th>\n",
       "      <th>ns3:id</th>\n",
       "      <th>ns2:detectorid</th>\n",
       "      <th>ns2:stationid</th>\n",
       "      <th>ns2:device_name</th>\n",
       "      <th>ns2:lane_direction</th>\n",
       "      <th>ns2:lanetype</th>\n",
       "      <th>ns2:lanenum</th>\n",
       "      <th>ns2:last_updated</th>\n",
       "      <th>ns2:mile_marker</th>\n",
       "      <th>ns2:occupancy</th>\n",
       "      <th>ns2:routename</th>\n",
       "      <th>ns2:speed</th>\n",
       "      <th>srsName</th>\n",
       "      <th>srsDimension</th>\n",
       "      <th>ns3:pos</th>\n",
       "      <th>ns2:volume</th>\n",
       "      <th>ns2:nodeid</th>\n",
       "      <th>ns2:sample_period</th>\n",
       "    </tr>\n",
       "  </thead>\n",
       "  <tbody>\n",
       "    <tr>\n",
       "      <th>0</th>\n",
       "      <td>3354</td>\n",
       "      <td>2020-10-18T02:59:37.722Z</td>\n",
       "      <td>tss_detector_status.OpenTMS-Detector-580522384-0</td>\n",
       "      <td>OpenTMS-Detector-580522384-0</td>\n",
       "      <td>OpenTMS-Detector-580522384</td>\n",
       "      <td>LANE 1 SB OFF RAMP</td>\n",
       "      <td>S</td>\n",
       "      <td>OFF_RAMP</td>\n",
       "      <td>1</td>\n",
       "      <td>2020-10-18T02:59:00Z</td>\n",
       "      <td>176.0</td>\n",
       "      <td>2</td>\n",
       "      <td>I-95S</td>\n",
       "      <td>49</td>\n",
       "      <td>urn:x-ogc:def:crs:EPSG:4326</td>\n",
       "      <td>2</td>\n",
       "      <td>38.801299 -77.08368</td>\n",
       "      <td>2</td>\n",
       "      <td>0.0</td>\n",
       "      <td>60</td>\n",
       "    </tr>\n",
       "    <tr>\n",
       "      <th>1</th>\n",
       "      <td>3354</td>\n",
       "      <td>2020-10-18T02:59:37.722Z</td>\n",
       "      <td>tss_detector_status.HamptonRoads-TSS-L0642983-1_2</td>\n",
       "      <td>HamptonRoads-TSS-L0642983-1_2</td>\n",
       "      <td>HamptonRoads-TSS-L0642983-1</td>\n",
       "      <td>64WB after Military Hwy exit W Main Lane 2</td>\n",
       "      <td>W</td>\n",
       "      <td>Main</td>\n",
       "      <td>2</td>\n",
       "      <td>2020-07-19T23:23:00Z</td>\n",
       "      <td>0.0</td>\n",
       "      <td>7</td>\n",
       "      <td>I-64</td>\n",
       "      <td>57</td>\n",
       "      <td>urn:x-ogc:def:crs:EPSG:4326</td>\n",
       "      <td>2</td>\n",
       "      <td>36.77381 -76.36783</td>\n",
       "      <td>16</td>\n",
       "      <td>NaN</td>\n",
       "      <td>60</td>\n",
       "    </tr>\n",
       "    <tr>\n",
       "      <th>2</th>\n",
       "      <td>3354</td>\n",
       "      <td>2020-10-18T02:59:37.722Z</td>\n",
       "      <td>tss_detector_status.OpenTMS-Detector-580523190-7</td>\n",
       "      <td>OpenTMS-Detector-580523190-7</td>\n",
       "      <td>OpenTMS-Detector-580523190</td>\n",
       "      <td>S4</td>\n",
       "      <td>S</td>\n",
       "      <td>NORMAL</td>\n",
       "      <td>3</td>\n",
       "      <td>2020-10-18T02:58:00Z</td>\n",
       "      <td>40.6</td>\n",
       "      <td>3</td>\n",
       "      <td>VA-28N</td>\n",
       "      <td>64</td>\n",
       "      <td>urn:x-ogc:def:crs:EPSG:4326</td>\n",
       "      <td>2</td>\n",
       "      <td>38.98235 -77.42905</td>\n",
       "      <td>9</td>\n",
       "      <td>7.0</td>\n",
       "      <td>60</td>\n",
       "    </tr>\n",
       "    <tr>\n",
       "      <th>3</th>\n",
       "      <td>3354</td>\n",
       "      <td>2020-10-18T02:59:37.722Z</td>\n",
       "      <td>tss_detector_status.OpenTMS-Detector-399568-2</td>\n",
       "      <td>OpenTMS-Detector-399568-2</td>\n",
       "      <td>OpenTMS-Detector-399568</td>\n",
       "      <td>WB Middle Lane</td>\n",
       "      <td>W</td>\n",
       "      <td>NORMAL</td>\n",
       "      <td>2</td>\n",
       "      <td>2020-10-18T02:50:00Z</td>\n",
       "      <td>202.0</td>\n",
       "      <td>1</td>\n",
       "      <td>I-64W</td>\n",
       "      <td>71</td>\n",
       "      <td>urn:x-ogc:def:crs:EPSG:4326</td>\n",
       "      <td>2</td>\n",
       "      <td>37.51673 -77.2536</td>\n",
       "      <td>21</td>\n",
       "      <td>2.0</td>\n",
       "      <td>300</td>\n",
       "    </tr>\n",
       "    <tr>\n",
       "      <th>4</th>\n",
       "      <td>3354</td>\n",
       "      <td>2020-10-18T02:59:37.722Z</td>\n",
       "      <td>tss_detector_status.OpenTMS-Detector-580523190-8</td>\n",
       "      <td>OpenTMS-Detector-580523190-8</td>\n",
       "      <td>OpenTMS-Detector-580523190</td>\n",
       "      <td>S3</td>\n",
       "      <td>S</td>\n",
       "      <td>NORMAL</td>\n",
       "      <td>4</td>\n",
       "      <td>2020-10-18T02:58:00Z</td>\n",
       "      <td>40.6</td>\n",
       "      <td>1</td>\n",
       "      <td>VA-28N</td>\n",
       "      <td>65</td>\n",
       "      <td>urn:x-ogc:def:crs:EPSG:4326</td>\n",
       "      <td>2</td>\n",
       "      <td>38.98235 -77.42905</td>\n",
       "      <td>5</td>\n",
       "      <td>8.0</td>\n",
       "      <td>60</td>\n",
       "    </tr>\n",
       "  </tbody>\n",
       "</table>\n",
       "</div>"
      ],
      "text/plain": [
       "   numberOfFeatures                 timeStamp  ... ns2:nodeid ns2:sample_period\n",
       "0              3354  2020-10-18T02:59:37.722Z  ...        0.0                60\n",
       "1              3354  2020-10-18T02:59:37.722Z  ...        NaN                60\n",
       "2              3354  2020-10-18T02:59:37.722Z  ...        7.0                60\n",
       "3              3354  2020-10-18T02:59:37.722Z  ...        2.0               300\n",
       "4              3354  2020-10-18T02:59:37.722Z  ...        8.0                60\n",
       "\n",
       "[5 rows x 20 columns]"
      ]
     },
     "execution_count": 3,
     "metadata": {
      "tags": []
     },
     "output_type": "execute_result"
    }
   ],
   "source": [
    "traffic.head()"
   ]
  },
  {
   "cell_type": "code",
   "execution_count": 4,
   "metadata": {
    "colab": {
     "base_uri": "https://localhost:8080/",
     "height": 284
    },
    "id": "P9L8_R-mDYVT",
    "outputId": "718699fe-088d-4d9f-efb4-8f471896ef64"
   },
   "outputs": [
    {
     "data": {
      "text/html": [
       "<div>\n",
       "<style scoped>\n",
       "    .dataframe tbody tr th:only-of-type {\n",
       "        vertical-align: middle;\n",
       "    }\n",
       "\n",
       "    .dataframe tbody tr th {\n",
       "        vertical-align: top;\n",
       "    }\n",
       "\n",
       "    .dataframe thead th {\n",
       "        text-align: right;\n",
       "    }\n",
       "</style>\n",
       "<table border=\"1\" class=\"dataframe\">\n",
       "  <thead>\n",
       "    <tr style=\"text-align: right;\">\n",
       "      <th></th>\n",
       "      <th>numberOfFeatures</th>\n",
       "      <th>ns2:lanenum</th>\n",
       "      <th>ns2:mile_marker</th>\n",
       "      <th>ns2:occupancy</th>\n",
       "      <th>ns2:speed</th>\n",
       "      <th>srsDimension</th>\n",
       "      <th>ns2:volume</th>\n",
       "      <th>ns2:nodeid</th>\n",
       "      <th>ns2:sample_period</th>\n",
       "    </tr>\n",
       "  </thead>\n",
       "  <tbody>\n",
       "    <tr>\n",
       "      <th>count</th>\n",
       "      <td>80496.0</td>\n",
       "      <td>80496.000000</td>\n",
       "      <td>75984.00000</td>\n",
       "      <td>80496.000000</td>\n",
       "      <td>80496.000000</td>\n",
       "      <td>80496.0</td>\n",
       "      <td>80496.000000</td>\n",
       "      <td>62232.000000</td>\n",
       "      <td>80496.000000</td>\n",
       "    </tr>\n",
       "    <tr>\n",
       "      <th>mean</th>\n",
       "      <td>3354.0</td>\n",
       "      <td>1.577818</td>\n",
       "      <td>71.71749</td>\n",
       "      <td>3.221067</td>\n",
       "      <td>55.344141</td>\n",
       "      <td>2.0</td>\n",
       "      <td>26.874602</td>\n",
       "      <td>1.998843</td>\n",
       "      <td>194.311270</td>\n",
       "    </tr>\n",
       "    <tr>\n",
       "      <th>std</th>\n",
       "      <td>0.0</td>\n",
       "      <td>1.305949</td>\n",
       "      <td>79.03163</td>\n",
       "      <td>4.580930</td>\n",
       "      <td>142.819777</td>\n",
       "      <td>0.0</td>\n",
       "      <td>50.861127</td>\n",
       "      <td>2.140566</td>\n",
       "      <td>128.839773</td>\n",
       "    </tr>\n",
       "    <tr>\n",
       "      <th>min</th>\n",
       "      <td>3354.0</td>\n",
       "      <td>0.000000</td>\n",
       "      <td>0.00000</td>\n",
       "      <td>0.000000</td>\n",
       "      <td>-8013.000000</td>\n",
       "      <td>2.0</td>\n",
       "      <td>0.000000</td>\n",
       "      <td>0.000000</td>\n",
       "      <td>60.000000</td>\n",
       "    </tr>\n",
       "    <tr>\n",
       "      <th>25%</th>\n",
       "      <td>3354.0</td>\n",
       "      <td>1.000000</td>\n",
       "      <td>0.10000</td>\n",
       "      <td>0.000000</td>\n",
       "      <td>57.000000</td>\n",
       "      <td>2.0</td>\n",
       "      <td>2.000000</td>\n",
       "      <td>0.000000</td>\n",
       "      <td>60.000000</td>\n",
       "    </tr>\n",
       "    <tr>\n",
       "      <th>50%</th>\n",
       "      <td>3354.0</td>\n",
       "      <td>1.000000</td>\n",
       "      <td>42.75000</td>\n",
       "      <td>2.000000</td>\n",
       "      <td>66.000000</td>\n",
       "      <td>2.0</td>\n",
       "      <td>10.000000</td>\n",
       "      <td>1.000000</td>\n",
       "      <td>300.000000</td>\n",
       "    </tr>\n",
       "    <tr>\n",
       "      <th>75%</th>\n",
       "      <td>3354.0</td>\n",
       "      <td>2.000000</td>\n",
       "      <td>161.10000</td>\n",
       "      <td>5.000000</td>\n",
       "      <td>71.000000</td>\n",
       "      <td>2.0</td>\n",
       "      <td>29.000000</td>\n",
       "      <td>3.000000</td>\n",
       "      <td>300.000000</td>\n",
       "    </tr>\n",
       "    <tr>\n",
       "      <th>max</th>\n",
       "      <td>3354.0</td>\n",
       "      <td>10.000000</td>\n",
       "      <td>324.00000</td>\n",
       "      <td>100.000000</td>\n",
       "      <td>10241.000000</td>\n",
       "      <td>2.0</td>\n",
       "      <td>506.000000</td>\n",
       "      <td>10.000000</td>\n",
       "      <td>900.000000</td>\n",
       "    </tr>\n",
       "  </tbody>\n",
       "</table>\n",
       "</div>"
      ],
      "text/plain": [
       "       numberOfFeatures   ns2:lanenum  ...    ns2:nodeid  ns2:sample_period\n",
       "count           80496.0  80496.000000  ...  62232.000000       80496.000000\n",
       "mean             3354.0      1.577818  ...      1.998843         194.311270\n",
       "std                 0.0      1.305949  ...      2.140566         128.839773\n",
       "min              3354.0      0.000000  ...      0.000000          60.000000\n",
       "25%              3354.0      1.000000  ...      0.000000          60.000000\n",
       "50%              3354.0      1.000000  ...      1.000000         300.000000\n",
       "75%              3354.0      2.000000  ...      3.000000         300.000000\n",
       "max              3354.0     10.000000  ...     10.000000         900.000000\n",
       "\n",
       "[8 rows x 9 columns]"
      ]
     },
     "execution_count": 4,
     "metadata": {
      "tags": []
     },
     "output_type": "execute_result"
    }
   ],
   "source": [
    "traffic.describe()"
   ]
  },
  {
   "cell_type": "code",
   "execution_count": 35,
   "metadata": {
    "id": "_wFMymBS0aIQ"
   },
   "outputs": [],
   "source": [
    "keep_cols = ['timeStamp', 'ns2:lanenum', 'ns2:occupancy', 'ns2:speed', 'ns2:volume', 'ns2:sample_period']"
   ]
  },
  {
   "cell_type": "code",
   "execution_count": 36,
   "metadata": {
    "colab": {
     "base_uri": "https://localhost:8080/",
     "height": 481
    },
    "id": "nBC-6MND5FsH",
    "outputId": "62dfe879-a10c-439b-b08b-50ec1c4a9017"
   },
   "outputs": [
    {
     "name": "stderr",
     "output_type": "stream",
     "text": [
      "/usr/local/lib/python3.6/dist-packages/ipykernel_launcher.py:3: SettingWithCopyWarning: \n",
      "A value is trying to be set on a copy of a slice from a DataFrame.\n",
      "Try using .loc[row_indexer,col_indexer] = value instead\n",
      "\n",
      "See the caveats in the documentation: https://pandas.pydata.org/pandas-docs/stable/user_guide/indexing.html#returning-a-view-versus-a-copy\n",
      "  This is separate from the ipykernel package so we can avoid doing imports until\n",
      "/usr/local/lib/python3.6/dist-packages/ipykernel_launcher.py:4: SettingWithCopyWarning: \n",
      "A value is trying to be set on a copy of a slice from a DataFrame.\n",
      "Try using .loc[row_indexer,col_indexer] = value instead\n",
      "\n",
      "See the caveats in the documentation: https://pandas.pydata.org/pandas-docs/stable/user_guide/indexing.html#returning-a-view-versus-a-copy\n",
      "  after removing the cwd from sys.path.\n",
      "/usr/local/lib/python3.6/dist-packages/pandas/core/frame.py:4169: SettingWithCopyWarning: \n",
      "A value is trying to be set on a copy of a slice from a DataFrame\n",
      "\n",
      "See the caveats in the documentation: https://pandas.pydata.org/pandas-docs/stable/user_guide/indexing.html#returning-a-view-versus-a-copy\n",
      "  errors=errors,\n"
     ]
    },
    {
     "data": {
      "text/html": [
       "<div>\n",
       "<style scoped>\n",
       "    .dataframe tbody tr th:only-of-type {\n",
       "        vertical-align: middle;\n",
       "    }\n",
       "\n",
       "    .dataframe tbody tr th {\n",
       "        vertical-align: top;\n",
       "    }\n",
       "\n",
       "    .dataframe thead th {\n",
       "        text-align: right;\n",
       "    }\n",
       "</style>\n",
       "<table border=\"1\" class=\"dataframe\">\n",
       "  <thead>\n",
       "    <tr style=\"text-align: right;\">\n",
       "      <th></th>\n",
       "      <th>ns2:lanenum</th>\n",
       "      <th>ns2:occupancy</th>\n",
       "      <th>ns2:speed</th>\n",
       "      <th>ns2:volume</th>\n",
       "      <th>ns2:sample_period</th>\n",
       "      <th>hour</th>\n",
       "      <th>min</th>\n",
       "    </tr>\n",
       "  </thead>\n",
       "  <tbody>\n",
       "    <tr>\n",
       "      <th>0</th>\n",
       "      <td>1</td>\n",
       "      <td>2</td>\n",
       "      <td>49</td>\n",
       "      <td>2</td>\n",
       "      <td>60</td>\n",
       "      <td>2</td>\n",
       "      <td>59</td>\n",
       "    </tr>\n",
       "    <tr>\n",
       "      <th>1</th>\n",
       "      <td>2</td>\n",
       "      <td>7</td>\n",
       "      <td>57</td>\n",
       "      <td>16</td>\n",
       "      <td>60</td>\n",
       "      <td>2</td>\n",
       "      <td>59</td>\n",
       "    </tr>\n",
       "    <tr>\n",
       "      <th>2</th>\n",
       "      <td>3</td>\n",
       "      <td>3</td>\n",
       "      <td>64</td>\n",
       "      <td>9</td>\n",
       "      <td>60</td>\n",
       "      <td>2</td>\n",
       "      <td>59</td>\n",
       "    </tr>\n",
       "    <tr>\n",
       "      <th>3</th>\n",
       "      <td>2</td>\n",
       "      <td>1</td>\n",
       "      <td>71</td>\n",
       "      <td>21</td>\n",
       "      <td>300</td>\n",
       "      <td>2</td>\n",
       "      <td>59</td>\n",
       "    </tr>\n",
       "    <tr>\n",
       "      <th>4</th>\n",
       "      <td>4</td>\n",
       "      <td>1</td>\n",
       "      <td>65</td>\n",
       "      <td>5</td>\n",
       "      <td>60</td>\n",
       "      <td>2</td>\n",
       "      <td>59</td>\n",
       "    </tr>\n",
       "  </tbody>\n",
       "</table>\n",
       "</div>"
      ],
      "text/plain": [
       "   ns2:lanenum  ns2:occupancy  ns2:speed  ...  ns2:sample_period  hour  min\n",
       "0            1              2         49  ...                 60     2   59\n",
       "1            2              7         57  ...                 60     2   59\n",
       "2            3              3         64  ...                 60     2   59\n",
       "3            2              1         71  ...                300     2   59\n",
       "4            4              1         65  ...                 60     2   59\n",
       "\n",
       "[5 rows x 7 columns]"
      ]
     },
     "execution_count": 36,
     "metadata": {
      "tags": []
     },
     "output_type": "execute_result"
    }
   ],
   "source": [
    "# traff = traffic[traffic['ns3:id'] == 'tss_detector_status.OpenTMS-Detector-580523190-7'][keep_cols]\n",
    "traff = traffic[keep_cols]\n",
    "traff['hour'] = pd.to_datetime(traff['timeStamp']).apply(lambda x: x.hour)\n",
    "traff['min'] = pd.to_datetime(traff['timeStamp']).apply(lambda x: x.minute)\n",
    "traff.drop('timeStamp', axis=1, inplace=True)\n",
    "traff.head()"
   ]
  },
  {
   "cell_type": "code",
   "execution_count": 37,
   "metadata": {
    "id": "SlYnZKwCLs5p"
   },
   "outputs": [],
   "source": [
    "train_dataset = traff.sample(frac=0.8, random_state=0)\n",
    "test_dataset = traff.drop(train_dataset.index)"
   ]
  },
  {
   "cell_type": "code",
   "execution_count": 38,
   "metadata": {
    "id": "cGkZMZFyLs-B"
   },
   "outputs": [],
   "source": [
    "train_features = train_dataset.copy()\n",
    "test_features = test_dataset.copy()\n",
    "\n",
    "train_labels = train_features.pop('ns2:occupancy')\n",
    "test_labels = test_features.pop('ns2:occupancy')"
   ]
  },
  {
   "cell_type": "code",
   "execution_count": null,
   "metadata": {
    "id": "AOCPy0U0LtAi"
   },
   "outputs": [],
   "source": []
  },
  {
   "cell_type": "code",
   "execution_count": null,
   "metadata": {
    "id": "7nF6ArzOLtDT"
   },
   "outputs": [],
   "source": []
  },
  {
   "cell_type": "code",
   "execution_count": 42,
   "metadata": {
    "colab": {
     "base_uri": "https://localhost:8080/",
     "height": 252
    },
    "id": "v1MAQS6aCYyY",
    "outputId": "d5ddb5b0-e92e-4648-8d1f-a6b450fabe8f"
   },
   "outputs": [
    {
     "name": "stdout",
     "output_type": "stream",
     "text": [
      "Model: \"sequential_9\"\n",
      "_________________________________________________________________\n",
      "Layer (type)                 Output Shape              Param #   \n",
      "=================================================================\n",
      "layer1 (Dense)               (None, 30)                210       \n",
      "_________________________________________________________________\n",
      "layer2 (Dense)               (None, 30)                930       \n",
      "_________________________________________________________________\n",
      "layer3 (Dense)               (None, 1)                 31        \n",
      "=================================================================\n",
      "Total params: 1,171\n",
      "Trainable params: 1,171\n",
      "Non-trainable params: 0\n",
      "_________________________________________________________________\n"
     ]
    }
   ],
   "source": [
    "model = keras.Sequential(\n",
    "    [\n",
    "        layers.InputLayer(input_shape=(6,)),\n",
    "        layers.Dense(30, activation=\"relu\", name=\"layer1\"),\n",
    "        layers.Dense(30, activation=\"relu\", name=\"layer2\"),\n",
    "        layers.Dense(1, name=\"layer3\"),\n",
    "    ]\n",
    ")\n",
    "\n",
    "model.build((6, 1))\n",
    "model.summary()"
   ]
  },
  {
   "cell_type": "code",
   "execution_count": 43,
   "metadata": {
    "id": "3n30hiDUJeyH"
   },
   "outputs": [],
   "source": [
    "model.compile(\n",
    "    optimizer=tf.optimizers.Adam(learning_rate=0.1),\n",
    "    loss='mean_absolute_error')"
   ]
  },
  {
   "cell_type": "code",
   "execution_count": 44,
   "metadata": {
    "colab": {
     "base_uri": "https://localhost:8080/",
     "height": 353
    },
    "id": "fO3VPc7HJe0m",
    "outputId": "58f33b98-083d-4721-b308-fcf523be5e7a"
   },
   "outputs": [
    {
     "name": "stdout",
     "output_type": "stream",
     "text": [
      "Epoch 1/10\n",
      "1610/1610 [==============================] - 2s 1ms/step - loss: 4.2409 - val_loss: 2.8330\n",
      "Epoch 2/10\n",
      "1610/1610 [==============================] - 2s 1ms/step - loss: 3.0638 - val_loss: 2.8316\n",
      "Epoch 3/10\n",
      "1610/1610 [==============================] - 2s 1ms/step - loss: 2.8275 - val_loss: 2.8405\n",
      "Epoch 4/10\n",
      "1610/1610 [==============================] - 2s 1ms/step - loss: 2.8296 - val_loss: 2.8770\n",
      "Epoch 5/10\n",
      "1610/1610 [==============================] - 2s 1ms/step - loss: 2.8272 - val_loss: 2.8371\n",
      "Epoch 6/10\n",
      "1610/1610 [==============================] - 2s 1ms/step - loss: 2.8283 - val_loss: 2.8557\n",
      "Epoch 7/10\n",
      "1610/1610 [==============================] - 2s 1ms/step - loss: 2.8283 - val_loss: 2.8432\n",
      "Epoch 8/10\n",
      "1610/1610 [==============================] - 2s 1ms/step - loss: 2.8291 - val_loss: 2.8356\n",
      "Epoch 9/10\n",
      "1610/1610 [==============================] - 2s 1ms/step - loss: 2.8276 - val_loss: 2.8340\n",
      "Epoch 10/10\n",
      "1610/1610 [==============================] - 2s 1ms/step - loss: 2.8302 - val_loss: 2.8409\n"
     ]
    }
   ],
   "source": [
    "history = model.fit(\n",
    "    train_features, train_labels,\n",
    "    epochs=10,\n",
    "    validation_split = 0.2)"
   ]
  },
  {
   "cell_type": "code",
   "execution_count": null,
   "metadata": {
    "id": "1XAaBXlVJe2-"
   },
   "outputs": [],
   "source": []
  },
  {
   "cell_type": "code",
   "execution_count": null,
   "metadata": {
    "id": "Z1-iD0jnJe5f"
   },
   "outputs": [],
   "source": []
  },
  {
   "cell_type": "code",
   "execution_count": null,
   "metadata": {
    "id": "2R6ZciG6Je77"
   },
   "outputs": [],
   "source": []
  },
  {
   "cell_type": "code",
   "execution_count": null,
   "metadata": {
    "id": "aw4AuV9AJe-S"
   },
   "outputs": [],
   "source": []
  },
  {
   "cell_type": "code",
   "execution_count": null,
   "metadata": {
    "id": "as6_lp0EJfAs"
   },
   "outputs": [],
   "source": []
  },
  {
   "cell_type": "code",
   "execution_count": null,
   "metadata": {
    "id": "cVUlyrLaJfDC"
   },
   "outputs": [],
   "source": []
  },
  {
   "cell_type": "code",
   "execution_count": null,
   "metadata": {
    "id": "g1xEP8WKJfFa"
   },
   "outputs": [],
   "source": []
  },
  {
   "cell_type": "code",
   "execution_count": null,
   "metadata": {
    "id": "ZJ0Qz6v4JfHb"
   },
   "outputs": [],
   "source": []
  },
  {
   "cell_type": "code",
   "execution_count": null,
   "metadata": {
    "id": "cQ4oC3KPJfKE"
   },
   "outputs": [],
   "source": []
  },
  {
   "cell_type": "code",
   "execution_count": 7,
   "metadata": {
    "colab": {
     "base_uri": "https://localhost:8080/",
     "height": 284
    },
    "id": "4V2mDKmr0aK-",
    "outputId": "d75a5472-830e-452e-9625-0dde861b69ab"
   },
   "outputs": [
    {
     "data": {
      "text/html": [
       "<div>\n",
       "<style scoped>\n",
       "    .dataframe tbody tr th:only-of-type {\n",
       "        vertical-align: middle;\n",
       "    }\n",
       "\n",
       "    .dataframe tbody tr th {\n",
       "        vertical-align: top;\n",
       "    }\n",
       "\n",
       "    .dataframe thead th {\n",
       "        text-align: right;\n",
       "    }\n",
       "</style>\n",
       "<table border=\"1\" class=\"dataframe\">\n",
       "  <thead>\n",
       "    <tr style=\"text-align: right;\">\n",
       "      <th></th>\n",
       "      <th>numberOfFeatures</th>\n",
       "      <th>ns2:lanenum</th>\n",
       "      <th>ns2:mile_marker</th>\n",
       "      <th>ns2:occupancy</th>\n",
       "      <th>ns2:speed</th>\n",
       "      <th>srsDimension</th>\n",
       "      <th>ns2:volume</th>\n",
       "      <th>ns2:nodeid</th>\n",
       "      <th>ns2:sample_period</th>\n",
       "    </tr>\n",
       "  </thead>\n",
       "  <tbody>\n",
       "    <tr>\n",
       "      <th>count</th>\n",
       "      <td>80496.0</td>\n",
       "      <td>80496.000000</td>\n",
       "      <td>75984.00000</td>\n",
       "      <td>80496.000000</td>\n",
       "      <td>80496.000000</td>\n",
       "      <td>80496.0</td>\n",
       "      <td>80496.000000</td>\n",
       "      <td>62232.000000</td>\n",
       "      <td>80496.000000</td>\n",
       "    </tr>\n",
       "    <tr>\n",
       "      <th>mean</th>\n",
       "      <td>3354.0</td>\n",
       "      <td>1.577818</td>\n",
       "      <td>71.71749</td>\n",
       "      <td>3.221067</td>\n",
       "      <td>55.344141</td>\n",
       "      <td>2.0</td>\n",
       "      <td>26.874602</td>\n",
       "      <td>1.998843</td>\n",
       "      <td>194.311270</td>\n",
       "    </tr>\n",
       "    <tr>\n",
       "      <th>std</th>\n",
       "      <td>0.0</td>\n",
       "      <td>1.305949</td>\n",
       "      <td>79.03163</td>\n",
       "      <td>4.580930</td>\n",
       "      <td>142.819777</td>\n",
       "      <td>0.0</td>\n",
       "      <td>50.861127</td>\n",
       "      <td>2.140566</td>\n",
       "      <td>128.839773</td>\n",
       "    </tr>\n",
       "    <tr>\n",
       "      <th>min</th>\n",
       "      <td>3354.0</td>\n",
       "      <td>0.000000</td>\n",
       "      <td>0.00000</td>\n",
       "      <td>0.000000</td>\n",
       "      <td>-8013.000000</td>\n",
       "      <td>2.0</td>\n",
       "      <td>0.000000</td>\n",
       "      <td>0.000000</td>\n",
       "      <td>60.000000</td>\n",
       "    </tr>\n",
       "    <tr>\n",
       "      <th>25%</th>\n",
       "      <td>3354.0</td>\n",
       "      <td>1.000000</td>\n",
       "      <td>0.10000</td>\n",
       "      <td>0.000000</td>\n",
       "      <td>57.000000</td>\n",
       "      <td>2.0</td>\n",
       "      <td>2.000000</td>\n",
       "      <td>0.000000</td>\n",
       "      <td>60.000000</td>\n",
       "    </tr>\n",
       "    <tr>\n",
       "      <th>50%</th>\n",
       "      <td>3354.0</td>\n",
       "      <td>1.000000</td>\n",
       "      <td>42.75000</td>\n",
       "      <td>2.000000</td>\n",
       "      <td>66.000000</td>\n",
       "      <td>2.0</td>\n",
       "      <td>10.000000</td>\n",
       "      <td>1.000000</td>\n",
       "      <td>300.000000</td>\n",
       "    </tr>\n",
       "    <tr>\n",
       "      <th>75%</th>\n",
       "      <td>3354.0</td>\n",
       "      <td>2.000000</td>\n",
       "      <td>161.10000</td>\n",
       "      <td>5.000000</td>\n",
       "      <td>71.000000</td>\n",
       "      <td>2.0</td>\n",
       "      <td>29.000000</td>\n",
       "      <td>3.000000</td>\n",
       "      <td>300.000000</td>\n",
       "    </tr>\n",
       "    <tr>\n",
       "      <th>max</th>\n",
       "      <td>3354.0</td>\n",
       "      <td>10.000000</td>\n",
       "      <td>324.00000</td>\n",
       "      <td>100.000000</td>\n",
       "      <td>10241.000000</td>\n",
       "      <td>2.0</td>\n",
       "      <td>506.000000</td>\n",
       "      <td>10.000000</td>\n",
       "      <td>900.000000</td>\n",
       "    </tr>\n",
       "  </tbody>\n",
       "</table>\n",
       "</div>"
      ],
      "text/plain": [
       "       numberOfFeatures   ns2:lanenum  ...    ns2:nodeid  ns2:sample_period\n",
       "count           80496.0  80496.000000  ...  62232.000000       80496.000000\n",
       "mean             3354.0      1.577818  ...      1.998843         194.311270\n",
       "std                 0.0      1.305949  ...      2.140566         128.839773\n",
       "min              3354.0      0.000000  ...      0.000000          60.000000\n",
       "25%              3354.0      1.000000  ...      0.000000          60.000000\n",
       "50%              3354.0      1.000000  ...      1.000000         300.000000\n",
       "75%              3354.0      2.000000  ...      3.000000         300.000000\n",
       "max              3354.0     10.000000  ...     10.000000         900.000000\n",
       "\n",
       "[8 rows x 9 columns]"
      ]
     },
     "execution_count": 7,
     "metadata": {
      "tags": []
     },
     "output_type": "execute_result"
    }
   ],
   "source": []
  },
  {
   "cell_type": "code",
   "execution_count": 12,
   "metadata": {
    "colab": {
     "base_uri": "https://localhost:8080/",
     "height": 252
    },
    "id": "qpQ5wrUS0aNL",
    "outputId": "5308ea56-2a89-4614-9808-59400d3fad18"
   },
   "outputs": [
    {
     "name": "stdout",
     "output_type": "stream",
     "text": [
      "Model: \"sequential\"\n",
      "_________________________________________________________________\n",
      "Layer (type)                 Output Shape              Param #   \n",
      "=================================================================\n",
      "embedding (Embedding)        (None, None, 64)          64000     \n",
      "_________________________________________________________________\n",
      "lstm (LSTM)                  (None, 128)               98816     \n",
      "_________________________________________________________________\n",
      "dense (Dense)                (None, 10)                1290      \n",
      "=================================================================\n",
      "Total params: 164,106\n",
      "Trainable params: 164,106\n",
      "Non-trainable params: 0\n",
      "_________________________________________________________________\n"
     ]
    }
   ],
   "source": [
    "model = keras.Sequential()\n",
    "# Add an Embedding layer expecting input vocab of size 1000, and\n",
    "# output embedding dimension of size 64.\n",
    "model.add(layers.Embedding(input_dim=1000, output_dim=64))\n",
    "\n",
    "# Add a LSTM layer with 128 internal units.\n",
    "model.add(layers.LSTM(128))\n",
    "\n",
    "# Add a Dense layer with 10 units.\n",
    "model.add(layers.Dense(10))\n",
    "\n",
    "model.summary()"
   ]
  },
  {
   "cell_type": "code",
   "execution_count": null,
   "metadata": {
    "id": "URwOlX4r0aPs"
   },
   "outputs": [],
   "source": []
  },
  {
   "cell_type": "code",
   "execution_count": null,
   "metadata": {
    "id": "QvUipZ7L0aSA"
   },
   "outputs": [],
   "source": []
  },
  {
   "cell_type": "code",
   "execution_count": null,
   "metadata": {
    "id": "D7-s3Zos0aUm"
   },
   "outputs": [],
   "source": []
  }
 ],
 "metadata": {
  "colab": {
   "collapsed_sections": [],
   "name": "Untitled1.ipynb",
   "provenance": []
  },
  "kernelspec": {
   "display_name": "Python 3",
   "language": "python",
   "name": "python3"
  },
  "language_info": {
   "codemirror_mode": {
    "name": "ipython",
    "version": 3
   },
   "file_extension": ".py",
   "mimetype": "text/x-python",
   "name": "python",
   "nbconvert_exporter": "python",
   "pygments_lexer": "ipython3",
   "version": "3.7.7"
  }
 },
 "nbformat": 4,
 "nbformat_minor": 4
}
